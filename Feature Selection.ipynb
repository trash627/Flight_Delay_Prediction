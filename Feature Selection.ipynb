{
 "cells": [
  {
   "cell_type": "code",
   "execution_count": 22,
   "id": "b791352b",
   "metadata": {},
   "outputs": [
    {
     "name": "stdout",
     "output_type": "stream",
     "text": [
      "Index(['MONTH', 'DAY_OF_MONTH', 'DAY_OF_WEEK', 'OP_UNIQUE_CARRIER', 'TAIL_NUM',\n",
      "       'DEST', 'DEP_DELAY', 'CRS_ELAPSED_TIME', 'DISTANCE', 'CRS_DEP_M',\n",
      "       'DEP_TIME_M', 'CRS_ARR_M', 'Temperature', 'Dew Point', 'Humidity',\n",
      "       'Wind', 'Wind Speed', 'Wind Gust', 'Pressure', 'Condition', 'sch_dep',\n",
      "       'sch_arr', 'TAXI_OUT'],\n",
      "      dtype='object')\n",
      "   MONTH  DAY_OF_MONTH  DAY_OF_WEEK OP_UNIQUE_CARRIER TAIL_NUM DEST  \\\n",
      "0     11             1            5                B6   N828JB  CHS   \n",
      "1     11             1            5                B6   N992JB  LAX   \n",
      "2     11             1            5                B6   N959JB  FLL   \n",
      "3     11             1            5                B6   N999JQ  MCO   \n",
      "4     11             1            5                DL   N880DN  ATL   \n",
      "\n",
      "   DEP_DELAY  CRS_ELAPSED_TIME  DISTANCE  CRS_DEP_M  DEP_TIME_M  CRS_ARR_M  \\\n",
      "0         -1               124       636        324         323        448   \n",
      "1         -7               371      2475        340         333        531   \n",
      "2         40               181      1069        301         341        482   \n",
      "3         -2               168       944        345         343        513   \n",
      "4         -4               139       760        360         356        499   \n",
      "\n",
      "   Temperature Dew Point  Humidity Wind  Wind Speed  Wind Gust  Pressure  \\\n",
      "0           48        34        58    W          25         38     29.86   \n",
      "1           48        34        58    W          25         38     29.86   \n",
      "2           48        34        58    W          25         38     29.86   \n",
      "3           48        34        58    W          25         38     29.86   \n",
      "4           46        32        58    W          24         35     29.91   \n",
      "\n",
      "      Condition  sch_dep  sch_arr  TAXI_OUT  \n",
      "0  Fair / Windy        9       17        14  \n",
      "1  Fair / Windy        9       17        15  \n",
      "2  Fair / Windy        9       17        22  \n",
      "3  Fair / Windy        9       17        12  \n",
      "4  Fair / Windy        9       17        13  \n"
     ]
    }
   ],
   "source": [
    "# Load in the data\n",
    "import pandas as pd\n",
    "pd.set_option('display.max_columns', None)\n",
    "\n",
    "data = pd.read_csv('./Data/initial_dataset.csv')\n",
    "\n",
    "print(data.columns)\n",
    "print(data.head())"
   ]
  },
  {
   "cell_type": "code",
   "execution_count": 23,
   "id": "d2652e11",
   "metadata": {},
   "outputs": [
    {
     "name": "stdout",
     "output_type": "stream",
     "text": [
      "   MONTH  DAY_OF_MONTH  DAY_OF_WEEK DEST  DEP_DELAY  CRS_ELAPSED_TIME  \\\n",
      "0     11             1            5  CHS         -1               124   \n",
      "1     11             1            5  LAX         -7               371   \n",
      "2     11             1            5  FLL         40               181   \n",
      "3     11             1            5  MCO         -2               168   \n",
      "4     11             1            5  ATL         -4               139   \n",
      "\n",
      "   DISTANCE  CRS_DEP_M  DEP_TIME_M  CRS_ARR_M  Temperature Dew Point  \\\n",
      "0       636        324         323        448           48        34   \n",
      "1      2475        340         333        531           48        34   \n",
      "2      1069        301         341        482           48        34   \n",
      "3       944        345         343        513           48        34   \n",
      "4       760        360         356        499           46        32   \n",
      "\n",
      "   Humidity Wind  Wind Speed  Wind Gust  Pressure     Condition  sch_dep  \\\n",
      "0        58    W          25         38     29.86  Fair / Windy        9   \n",
      "1        58    W          25         38     29.86  Fair / Windy        9   \n",
      "2        58    W          25         38     29.86  Fair / Windy        9   \n",
      "3        58    W          25         38     29.86  Fair / Windy        9   \n",
      "4        58    W          24         35     29.91  Fair / Windy        9   \n",
      "\n",
      "   sch_arr  TAXI_OUT  \n",
      "0       17        14  \n",
      "1       17        15  \n",
      "2       17        22  \n",
      "3       17        12  \n",
      "4       17        13  \n"
     ]
    }
   ],
   "source": [
    "# Remove Identifier\n",
    "data = data.drop(['TAIL_NUM', 'OP_UNIQUE_CARRIER'], axis=1)\n",
    "\n",
    "print(data.head())"
   ]
  },
  {
   "cell_type": "code",
   "execution_count": 24,
   "metadata": {},
   "outputs": [
    {
     "name": "stdout",
     "output_type": "stream",
     "text": [
      "MONTH                 int64\n",
      "DAY_OF_MONTH          int64\n",
      "DAY_OF_WEEK           int64\n",
      "DEST                 object\n",
      "DEP_DELAY             int64\n",
      "CRS_ELAPSED_TIME      int64\n",
      "DISTANCE              int64\n",
      "CRS_DEP_M             int64\n",
      "DEP_TIME_M            int64\n",
      "CRS_ARR_M             int64\n",
      "Temperature           int64\n",
      "Dew Point            object\n",
      "Humidity              int64\n",
      "Wind                 object\n",
      "Wind Speed            int64\n",
      "Wind Gust             int64\n",
      "Pressure            float64\n",
      "Condition            object\n",
      "sch_dep               int64\n",
      "sch_arr               int64\n",
      "TAXI_OUT              int64\n",
      "dtype: object\n"
     ]
    }
   ],
   "source": [
    "print(data.dtypes)"
   ]
  },
  {
   "cell_type": "code",
   "execution_count": 16,
   "metadata": {},
   "outputs": [
    {
     "name": "stdout",
     "output_type": "stream",
     "text": [
      "['34' '32' '33' '31' '30' '29' '67' '35' '36' '38' '39' '40' '41' '42'\n",
      " '28' '27' '46' '37' '44' '45' '52' '53' '54' '56' '57' '59' '58' '50'\n",
      " '43' '48' '49' '47' '21' '20' '22' '24' '23' '19' '18' '16' '13' '12'\n",
      " '14' '15' '17' '26' '25' '51' '55' '6\\xa0' '9\\xa0' '5\\xa0' '8\\xa0' '10'\n",
      " '4\\xa0' '7\\xa0' '3\\xa0' '2\\xa0' '11' '0\\xa0' '-1' '1\\xa0' '-2' '-3']\n",
      "['CHS' 'LAX' 'FLL' 'MCO' 'ATL' 'ORD' 'BUF' 'LGB' 'LAS' 'DCA' 'PHX' 'SFO'\n",
      " 'SJU' 'SLC' 'BOS' 'SAV' 'SYR' 'MSP' 'SEA' 'MIA' 'PDX' 'TPA' 'BTV' 'IAH'\n",
      " 'DEN' 'RSW' 'ORF' 'JAX' 'MSY' 'CLT' 'BNA' 'RDU' 'SAN' 'SJC' 'ROC' 'DFW'\n",
      " 'IAD' 'AUS' 'DTW' 'PWM' 'SRQ' 'CMH' 'HNL' 'PBI' 'BWI' 'CLE' 'BUR' 'PIT'\n",
      " 'RIC' 'IND' 'CVG' 'SMF' 'ONT' 'SAT' 'PSP' 'OAK' 'ABQ' 'PSE' 'ORH' 'BQN'\n",
      " 'STT' 'RNO' 'PHL' 'EGE' 'JAC']\n",
      "['B6' 'DL' 'AA' 'AS' 'MQ' '9E' 'YX' 'HA' 'OO']\n",
      "['W' 'WNW' 'NW' 'NNW' 'S' 'ENE' 'NE' 'NNE' 'E' 'SE' 'CALM' 'SW' 'VAR'\n",
      " 'SSE' 'SSW' 'WSW' 'N' 'ESE' nan]\n",
      "['Fair / Windy' 'Fair' 'Light Rain / Windy' 'Partly Cloudy'\n",
      " 'Mostly Cloudy' 'Cloudy' 'Light Rain' 'Mostly Cloudy / Windy'\n",
      " 'Partly Cloudy / Windy' 'Light Snow / Windy' 'Cloudy / Windy'\n",
      " 'Light Drizzle' 'Rain' 'Heavy Rain' 'Fog' 'Wintry Mix'\n",
      " 'Light Freezing Rain' 'Light Snow' 'Wintry Mix / Windy' 'Fog / Windy'\n",
      " 'Light Drizzle / Windy' 'Rain / Windy' 'Drizzle and Fog' 'Snow'\n",
      " 'Heavy Rain / Windy']\n"
     ]
    }
   ],
   "source": [
    "print(data['Dew Point'].unique())\n",
    "print(data['DEST'].unique())\n",
    "print(data['OP_UNIQUE_CARRIER'].unique())\n",
    "print(data['Wind'].unique())\n",
    "print(data['Condition'].unique())\n"
   ]
  },
  {
   "cell_type": "code",
   "execution_count": 18,
   "metadata": {},
   "outputs": [
    {
     "name": "stdout",
     "output_type": "stream",
     "text": [
      "   MONTH  DAY_OF_MONTH  DAY_OF_WEEK OP_UNIQUE_CARRIER DEST  DEP_DELAY  \\\n",
      "0     11             1            5                B6  CHS         -1   \n",
      "1     11             1            5                B6  LAX         -7   \n",
      "2     11             1            5                B6  FLL         40   \n",
      "3     11             1            5                B6  MCO         -2   \n",
      "4     11             1            5                DL  ATL         -4   \n",
      "\n",
      "   CRS_ELAPSED_TIME  DISTANCE  CRS_DEP_M  DEP_TIME_M  CRS_ARR_M  Temperature  \\\n",
      "0               124       636        324         323        448           48   \n",
      "1               371      2475        340         333        531           48   \n",
      "2               181      1069        301         341        482           48   \n",
      "3               168       944        345         343        513           48   \n",
      "4               139       760        360         356        499           46   \n",
      "\n",
      "   Dew Point  Humidity Wind  Wind Speed  Wind Gust  Pressure     Condition  \\\n",
      "0         34        58    W          25         38     29.86  Fair / Windy   \n",
      "1         34        58    W          25         38     29.86  Fair / Windy   \n",
      "2         34        58    W          25         38     29.86  Fair / Windy   \n",
      "3         34        58    W          25         38     29.86  Fair / Windy   \n",
      "4         32        58    W          24         35     29.91  Fair / Windy   \n",
      "\n",
      "   sch_dep  sch_arr  TAXI_OUT  \n",
      "0        9       17        14  \n",
      "1        9       17        15  \n",
      "2        9       17        22  \n",
      "3        9       17        12  \n",
      "4        9       17        13  \n"
     ]
    }
   ],
   "source": [
    "data['Dew Point'] = data['Dew Point'].astype(int)\n",
    "print(data.head())"
   ]
  },
  {
   "cell_type": "code",
   "execution_count": 19,
   "metadata": {},
   "outputs": [
    {
     "name": "stdout",
     "output_type": "stream",
     "text": [
      "MONTH                0\n",
      "DAY_OF_MONTH         0\n",
      "DAY_OF_WEEK          0\n",
      "OP_UNIQUE_CARRIER    0\n",
      "DEST                 0\n",
      "DEP_DELAY            0\n",
      "CRS_ELAPSED_TIME     0\n",
      "DISTANCE             0\n",
      "CRS_DEP_M            0\n",
      "DEP_TIME_M           0\n",
      "CRS_ARR_M            0\n",
      "Temperature          0\n",
      "Dew Point            0\n",
      "Humidity             0\n",
      "Wind                 2\n",
      "Wind Speed           0\n",
      "Wind Gust            0\n",
      "Pressure             0\n",
      "Condition            0\n",
      "sch_dep              0\n",
      "sch_arr              0\n",
      "TAXI_OUT             0\n",
      "dtype: int64\n"
     ]
    }
   ],
   "source": [
    "# Check for NaN values\n",
    "print(data.isnull().sum())"
   ]
  },
  {
   "cell_type": "code",
   "execution_count": 20,
   "metadata": {},
   "outputs": [
    {
     "name": "stdout",
     "output_type": "stream",
     "text": [
      "28820\n",
      "28818\n"
     ]
    }
   ],
   "source": [
    "# Drop NaN\n",
    "data = data.dropna()"
   ]
  },
  {
   "cell_type": "code",
   "execution_count": null,
   "metadata": {},
   "outputs": [],
   "source": [
    "# One hot enocde the remaining categorical vars\n",
    "encoded_data = pd.get_dummies(data, columns=['Wind', 'Condition', 'Dest'])"
   ]
  }
 ],
 "metadata": {
  "kernelspec": {
   "display_name": "Python 3 (ipykernel)",
   "language": "python",
   "name": "python3"
  },
  "language_info": {
   "codemirror_mode": {
    "name": "ipython",
    "version": 3
   },
   "file_extension": ".py",
   "mimetype": "text/x-python",
   "name": "python",
   "nbconvert_exporter": "python",
   "pygments_lexer": "ipython3",
   "version": "3.10.11"
  }
 },
 "nbformat": 4,
 "nbformat_minor": 5
}
